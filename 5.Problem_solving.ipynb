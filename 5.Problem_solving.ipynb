{
 "cells": [
  {
   "cell_type": "code",
   "execution_count": null,
   "metadata": {},
   "outputs": [],
   "source": []
  },
  {
   "cell_type": "code",
   "execution_count": null,
   "metadata": {},
   "outputs": [
    {
     "name": "stdout",
     "output_type": "stream",
     "text": [
      "1 2\n",
      "***********\n",
      "1,2\n",
      "1 2ended here."
     ]
    }
   ],
   "source": [
    "a = int(input(\"give a value\"))\n",
    "b = int(input(\"give b value\"))\n",
    "\n",
    "print(a,b)\n",
    "print(\"***********\")\n",
    "print(a,b,sep=\",\")\n",
    "print(a,b,end=\"ended here.\")\n"
   ]
  },
  {
   "cell_type": "code",
   "execution_count": null,
   "metadata": {},
   "outputs": [
    {
     "name": "stdout",
     "output_type": "stream",
     "text": [
      "hello,vivek!"
     ]
    }
   ],
   "source": [
    "#example1 : string input and output:\n",
    "\n",
    "'''\n",
    "Expected input : \"vivek\"\n",
    "Expected output : \"Hello,vivek!\"\n",
    "'''\n",
    "\n",
    "name = input(\"enter name: \")\n",
    "print(\"hello\",name,sep=\",\",end=\"!\")"
   ]
  },
  {
   "cell_type": "code",
   "execution_count": null,
   "metadata": {},
   "outputs": [
    {
     "name": "stdout",
     "output_type": "stream",
     "text": [
      "you entered : 5\n"
     ]
    }
   ],
   "source": [
    "#example 2 : integer input and output:\n",
    "\n",
    "'''\n",
    "Expected input :5\n",
    "\n",
    "Expected outptu : \"you entered :5\"\n",
    "\n",
    "'''\n",
    "\n",
    "num = int(input(\"give values of num :\"))\n",
    "\n",
    "print(\"you entered : \",num, sep=\"\")"
   ]
  },
  {
   "cell_type": "code",
   "execution_count": null,
   "metadata": {},
   "outputs": [
    {
     "name": "stdout",
     "output_type": "stream",
     "text": [
      "value of Pi 3.14\n"
     ]
    }
   ],
   "source": [
    "#ex : 3 : float input and output\n",
    "\n",
    "'''expected input : 3.14\n",
    "Expected output : \" value of PI : 3.14'''\n",
    "\n",
    "pi = float(input(\"pi: \"))\n",
    "print(\"value of Pi\", pi)"
   ]
  },
  {
   "cell_type": "code",
   "execution_count": null,
   "metadata": {},
   "outputs": [
    {
     "name": "stdout",
     "output_type": "stream",
     "text": [
      "name vivek age: 28\n"
     ]
    }
   ],
   "source": [
    "#example:\n",
    "\n",
    "inp = input(\"enter the name and age :\")\n",
    "name,age = inp.split(\",\")  #it will split where ever we have comma\n",
    "\n",
    "\n",
    "print(\"name\",name, \"age:\",age)"
   ]
  },
  {
   "cell_type": "code",
   "execution_count": null,
   "metadata": {},
   "outputs": [
    {
     "name": "stdout",
     "output_type": "stream",
     "text": [
      "countdown: 5 4 3 2 1 blast \n"
     ]
    }
   ],
   "source": [
    "#example: End parameter in output:\n",
    "\n",
    "n = int(input(\"enter the no\"))\n",
    "print(\"countdown: 5 4 3 2 1 blast \")"
   ]
  },
  {
   "cell_type": "code",
   "execution_count": null,
   "metadata": {},
   "outputs": [
    {
     "name": "stdout",
     "output_type": "stream",
     "text": [
      "addition: 30 mul: 200 sub: 0.5\n"
     ]
    }
   ],
   "source": [
    "#example : Arthimetic operators:\n",
    "\n",
    "a,b = input(\"enter a and b value : \").split(\",\")\n",
    "a = int(a)\n",
    "b = int(b)\n",
    "print(\"addition:\",(a+b),\"mul:\",a*b,\"sub:\",a/b)"
   ]
  },
  {
   "cell_type": "code",
   "execution_count": null,
   "metadata": {},
   "outputs": [],
   "source": [
    "#example: comparisoin operators:\n",
    "\n",
    "a,b = input(\"enter string\").split(\",\")\n",
    "a = int(a)\n",
    "b = int(b)"
   ]
  },
  {
   "cell_type": "code",
   "execution_count": null,
   "metadata": {},
   "outputs": [
    {
     "name": "stdout",
     "output_type": "stream",
     "text": [
      "name:alice,age:24 years\n"
     ]
    }
   ],
   "source": [
    "#example: formatiing output with f strings\n",
    "\n",
    "x,y = input(\"enter name and age:\").split(\",\")\n",
    "\n",
    "print(f\"name:{x},age:{y} years\") #syntax f\"abcd{},{}\""
   ]
  },
  {
   "cell_type": "code",
   "execution_count": null,
   "metadata": {},
   "outputs": [
    {
     "name": "stdout",
     "output_type": "stream",
     "text": [
      "sum 30\n"
     ]
    }
   ],
   "source": [
    "a = int(input())\n",
    "b = int(input())\n",
    "\n",
    "print(\"sum\",a+b)\n",
    "print(\"sum\",a+b)\n",
    "print(\"sum\",a+b)\n"
   ]
  },
  {
   "cell_type": "code",
   "execution_count": null,
   "metadata": {},
   "outputs": [
    {
     "name": "stdout",
     "output_type": "stream",
     "text": [
      "area of circle 12.56\n",
      "area of circle12.56\n",
      "area od fcielc12.56\n"
     ]
    }
   ],
   "source": [
    "#ex : Area of circle:\n",
    "\n",
    "radius = int(input(\"enetr \"))\n",
    "a = 3.14*(radius**2)\n",
    "print(\"area of circle\",a)\n",
    "print(\"area of circle\",a,sep=\"\")\n",
    "print(f\"area od fcielc{a}\")"
   ]
  },
  {
   "cell_type": "code",
   "execution_count": null,
   "metadata": {},
   "outputs": [
    {
     "name": "stdout",
     "output_type": "stream",
     "text": [
      "roots:((-2+1.4142135623730951j),(-2-1.4142135623730951j))\n"
     ]
    }
   ],
   "source": [
    "#ex : Quadratic Equatoin: ax**2+bx+c=0 , d = b**2-4ac\n",
    "\n",
    "a = int(input(\"give a: \"))\n",
    "b = int(input(\"give b: \"))\n",
    "c = int(input(\"give c: \"))\n",
    "\n",
    "root1=0\n",
    "root2=0\n",
    "\n",
    "d=(b**2) - 4*a*c\n",
    "root1 = (-b + (d**(0.5))/2*a)\n",
    "root2 = (-b - (d**(0.5))/2*a)\n",
    "\n",
    "print(f\"roots:({root1},{root2})\")"
   ]
  },
  {
   "cell_type": "code",
   "execution_count": null,
   "metadata": {},
   "outputs": [
    {
     "name": "stdout",
     "output_type": "stream",
     "text": [
      "20 10\n"
     ]
    }
   ],
   "source": [
    "#ex : swap 2 numbers\n",
    "\n",
    "a = int(input())\n",
    "b = int(input())\n",
    "\n",
    "temp = b\n",
    "b = a\n",
    "a = temp\n",
    "\n",
    "print(a,b)"
   ]
  },
  {
   "cell_type": "code",
   "execution_count": null,
   "metadata": {},
   "outputs": [
    {
     "name": "stdout",
     "output_type": "stream",
     "text": [
      "20 10\n"
     ]
    }
   ],
   "source": [
    "#same but simple for above\n",
    "a = int(input())\n",
    "b = int(input())\n",
    "\n",
    "a,b = b,a\n",
    "\n",
    "print(a,b)"
   ]
  },
  {
   "cell_type": "code",
   "execution_count": null,
   "metadata": {},
   "outputs": [],
   "source": [
    "#ex : converting the temperature units:\n",
    "\n",
    "#we have fomraula \n",
    "# F = c * (9/5) + 32\n",
    "# K = 273+ C"
   ]
  },
  {
   "cell_type": "code",
   "execution_count": null,
   "metadata": {},
   "outputs": [],
   "source": [
    "#ex : basic currency converter\n",
    "\n",
    "# EUR * amount"
   ]
  },
  {
   "cell_type": "code",
   "execution_count": null,
   "metadata": {},
   "outputs": [],
   "source": [
    "#more pratice problems"
   ]
  },
  {
   "cell_type": "code",
   "execution_count": null,
   "metadata": {},
   "outputs": [],
   "source": []
  }
 ],
 "metadata": {
  "language_info": {
   "name": "python"
  }
 },
 "nbformat": 4,
 "nbformat_minor": 2
}
