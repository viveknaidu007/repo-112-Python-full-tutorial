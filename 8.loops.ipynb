{
 "cells": [
  {
   "cell_type": "code",
   "execution_count": null,
   "metadata": {},
   "outputs": [],
   "source": [
    "#here we r learinngabout \n",
    "\n",
    "# loops: loops r used to exute a block of code repeatedly as long as a certain condition is true or for a speicifc number of iterations\n",
    "\n",
    "'''\n",
    "type:\n",
    "1. while\n",
    "2. for\n",
    "'''"
   ]
  },
  {
   "cell_type": "code",
   "execution_count": null,
   "metadata": {},
   "outputs": [],
   "source": [
    "#while loop:\n",
    "'''\n",
    "thw while loop executes a block of code as long as a specified conditoin is true. it continuosly checks the conditoin before each iteration and stops when the conditoins becomes false.\n",
    "\n",
    "synatx :\n",
    "while condition:\n",
    "# code block to be executed repeatedly\n",
    "\n",
    "'''"
   ]
  },
  {
   "cell_type": "markdown",
   "metadata": {},
   "source": [
    "![p](images\\img79.png)"
   ]
  },
  {
   "cell_type": "code",
   "execution_count": null,
   "metadata": {},
   "outputs": [],
   "source": [
    "#\n",
    "\n",
    "candies = 10\n",
    "\n",
    "if candies>10:\n",
    "    print(\"given to frined\")\n",
    "    candies -= 1\n",
    "\n",
    "if candies>0:\n",
    "    print(\"given too frined\")\n",
    "    candies -= 1\n",
    "print(\"candies\")"
   ]
  },
  {
   "cell_type": "markdown",
   "metadata": {},
   "source": [
    "![p](images\\img80.png)"
   ]
  },
  {
   "cell_type": "code",
   "execution_count": 1,
   "metadata": {},
   "outputs": [
    {
     "name": "stdout",
     "output_type": "stream",
     "text": [
      "giving a candy to a frined\n",
      "giving a candy to a frined\n",
      "giving a candy to a frined\n",
      "giving a candy to a frined\n",
      "giving a candy to a frined\n",
      "giving a candy to a frined\n",
      "giving a candy to a frined\n",
      "giving a candy to a frined\n",
      "giving a candy to a frined\n",
      "giving a candy to a frined\n"
     ]
    }
   ],
   "source": [
    "#\n",
    "candies = 10\n",
    "\n",
    "#using a for loop to give candies to a friend\n",
    "for i in range(candies):\n",
    "    #give one candy\n",
    "    print(\"giving a candy to a frined\")"
   ]
  },
  {
   "cell_type": "markdown",
   "metadata": {},
   "source": [
    "![p](images\\img81.png)"
   ]
  },
  {
   "cell_type": "code",
   "execution_count": 3,
   "metadata": {},
   "outputs": [
    {
     "name": "stdout",
     "output_type": "stream",
     "text": [
      "h\n",
      "e\n",
      "l\n",
      "l\n",
      "o\n",
      " \n",
      "W\n",
      "o\n",
      "r\n",
      "l\n",
      "d\n",
      "!\n"
     ]
    }
   ],
   "source": [
    "#\n",
    "message = \"hello World!\"\n",
    "\n",
    "for char in message:\n",
    "    print(char)"
   ]
  }
 ],
 "metadata": {
  "kernelspec": {
   "display_name": "dlproj",
   "language": "python",
   "name": "python3"
  },
  "language_info": {
   "codemirror_mode": {
    "name": "ipython",
    "version": 3
   },
   "file_extension": ".py",
   "mimetype": "text/x-python",
   "name": "python",
   "nbconvert_exporter": "python",
   "pygments_lexer": "ipython3",
   "version": "3.12.1"
  }
 },
 "nbformat": 4,
 "nbformat_minor": 2
}
