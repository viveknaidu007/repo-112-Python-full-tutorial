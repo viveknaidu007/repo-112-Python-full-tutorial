{
 "cells": [
  {
   "cell_type": "code",
   "execution_count": null,
   "metadata": {},
   "outputs": [],
   "source": [
    "#here we r learinngabout \n",
    "\n",
    "# loops: loops r used to exute a block of code repeatedly as long as a certain condition is true or for a speicifc number of iterations\n",
    "\n",
    "'''\n",
    "type:\n",
    "1. while\n",
    "2. for\n",
    "'''"
   ]
  },
  {
   "cell_type": "code",
   "execution_count": null,
   "metadata": {},
   "outputs": [],
   "source": [
    "#while loop:\n",
    "'''\n",
    "thw while loop executes a block of code as long as a specified conditoin is true. it continuosly checks the conditoin before each iteration and stops when the conditoins becomes false.\n",
    "\n",
    "synatx :\n",
    "while condition:\n",
    "# code block to be executed repeatedly\n",
    "\n",
    "'''"
   ]
  },
  {
   "cell_type": "markdown",
   "metadata": {},
   "source": [
    "![p](images\\img79.png)"
   ]
  },
  {
   "cell_type": "code",
   "execution_count": null,
   "metadata": {},
   "outputs": [],
   "source": [
    "#\n",
    "\n",
    "candies = 10\n",
    "\n",
    "if candies>10:\n",
    "    print(\"given to frined\")\n",
    "    candies -= 1\n",
    "\n",
    "if candies>0:\n",
    "    print(\"given too frined\")\n",
    "    candies -= 1\n",
    "print(\"candies\")"
   ]
  },
  {
   "cell_type": "markdown",
   "metadata": {},
   "source": [
    "![p](images\\img80.png)"
   ]
  },
  {
   "cell_type": "code",
   "execution_count": 1,
   "metadata": {},
   "outputs": [
    {
     "name": "stdout",
     "output_type": "stream",
     "text": [
      "giving a candy to a frined\n",
      "giving a candy to a frined\n",
      "giving a candy to a frined\n",
      "giving a candy to a frined\n",
      "giving a candy to a frined\n",
      "giving a candy to a frined\n",
      "giving a candy to a frined\n",
      "giving a candy to a frined\n",
      "giving a candy to a frined\n",
      "giving a candy to a frined\n"
     ]
    }
   ],
   "source": [
    "#\n",
    "candies = 10\n",
    "\n",
    "#using a for loop to give candies to a friend\n",
    "for i in range(candies):\n",
    "    #give one candy\n",
    "    print(\"giving a candy to a frined\")"
   ]
  },
  {
   "cell_type": "markdown",
   "metadata": {},
   "source": [
    "![p](images\\img81.png)"
   ]
  },
  {
   "cell_type": "code",
   "execution_count": 3,
   "metadata": {},
   "outputs": [
    {
     "name": "stdout",
     "output_type": "stream",
     "text": [
      "h\n",
      "e\n",
      "l\n",
      "l\n",
      "o\n",
      " \n",
      "W\n",
      "o\n",
      "r\n",
      "l\n",
      "d\n",
      "!\n"
     ]
    }
   ],
   "source": [
    "#\n",
    "message = \"hello World!\"\n",
    "\n",
    "for char in message:\n",
    "    print(char)"
   ]
  },
  {
   "cell_type": "code",
   "execution_count": 1,
   "metadata": {},
   "outputs": [
    {
     "name": "stdout",
     "output_type": "stream",
     "text": [
      "h\n",
      "e\n",
      "l\n",
      "l\n",
      "o\n",
      " \n",
      "W\n",
      "o\n",
      "r\n",
      "l\n",
      "d\n",
      "!\n",
      "0\n",
      "1\n",
      "2\n",
      "3\n",
      "4\n",
      "5\n",
      "6\n",
      "7\n",
      "8\n",
      "9\n",
      "10\n",
      "11\n"
     ]
    }
   ],
   "source": [
    "#\n",
    "message = \"hello World!\"\n",
    "\n",
    "\n",
    "for i in message:\n",
    "    print(i)\n",
    "\n",
    "\n",
    "length = len(message)\n",
    "for i in range( length ):\n",
    "    print(i)\n"
   ]
  },
  {
   "cell_type": "markdown",
   "metadata": {},
   "source": [
    "![p](images\\img82.png)"
   ]
  },
  {
   "cell_type": "markdown",
   "metadata": {},
   "source": [
    "![p](images\\img83.png)"
   ]
  },
  {
   "cell_type": "markdown",
   "metadata": {},
   "source": [
    "![p](images\\img84.png)"
   ]
  },
  {
   "cell_type": "markdown",
   "metadata": {},
   "source": [
    "![p](images\\img85.png)"
   ]
  },
  {
   "cell_type": "markdown",
   "metadata": {},
   "source": [
    "![p](images\\img86.png)"
   ]
  },
  {
   "cell_type": "markdown",
   "metadata": {},
   "source": [
    "![p](images\\img87.png)"
   ]
  },
  {
   "cell_type": "code",
   "execution_count": null,
   "metadata": {},
   "outputs": [],
   "source": [
    "# nested loops:\n",
    "'''\n",
    "\n",
    "'''"
   ]
  },
  {
   "cell_type": "code",
   "execution_count": null,
   "metadata": {},
   "outputs": [],
   "source": [
    "# problems on loops+strings +numbers + decison making"
   ]
  },
  {
   "cell_type": "code",
   "execution_count": 4,
   "metadata": {},
   "outputs": [
    {
     "name": "stdout",
     "output_type": "stream",
     "text": [
      "1\n",
      "2\n",
      "3\n",
      "4\n",
      "5\n"
     ]
    }
   ],
   "source": [
    "#problem : print from 1 to N:\n",
    "\n",
    "'''take a positive integr N as input and print all the numbers from 1 to N\n",
    "sample input : N = 5\n",
    "sample output : 1\n",
    "2\n",
    "3\n",
    "4\n",
    "5\n",
    "'''\n",
    "\n",
    "n = int(input(\"given an n value\"))\n",
    "\n",
    "i = 1\n",
    "\n",
    "while i<=n:\n",
    "    print(i)\n",
    "    i +=1\n",
    "\n"
   ]
  },
  {
   "cell_type": "code",
   "execution_count": 10,
   "metadata": {},
   "outputs": [
    {
     "name": "stdout",
     "output_type": "stream",
     "text": [
      "55\n"
     ]
    }
   ],
   "source": [
    "#problem : calculate the sum of N natural numbers\n",
    "#sample input : N =5\n",
    "#sample output : sum of the first 5 natural numbers : 15\n",
    "\n",
    "\n",
    "\n",
    "n = int(input(\"given an n value\"))\n",
    "\n",
    "i = 1\n",
    "sum = 0\n",
    "while i<=n:\n",
    "    sum=i + sum\n",
    "    i+=1\n",
    "\n",
    "print(sum)"
   ]
  },
  {
   "cell_type": "code",
   "execution_count": 18,
   "metadata": {},
   "outputs": [
    {
     "name": "stdout",
     "output_type": "stream",
     "text": [
      "2\n",
      "4\n",
      "6\n",
      "8\n",
      "10\n",
      "12\n",
      "14\n",
      "16\n",
      "18\n",
      "20\n",
      "22\n",
      "24\n",
      "26\n",
      "28\n",
      "30\n",
      "32\n",
      "34\n",
      "36\n",
      "38\n",
      "40\n",
      "42\n",
      "44\n",
      "46\n",
      "48\n",
      "50\n",
      "52\n",
      "54\n",
      "56\n",
      "58\n",
      "60\n",
      "62\n",
      "64\n",
      "66\n",
      "68\n",
      "70\n",
      "72\n",
      "74\n",
      "76\n",
      "78\n",
      "80\n",
      "82\n",
      "84\n",
      "86\n",
      "88\n",
      "90\n",
      "92\n",
      "94\n",
      "96\n",
      "98\n",
      "100\n"
     ]
    }
   ],
   "source": [
    "#problem: print even numbers from 1 to N:\n",
    "\n",
    "# take a positive integer N as input and print all the even numbers from 1 to N.\n",
    "#sample input : N = 10\n",
    "\n",
    "\n",
    "n = int(input(\"give n value:\"))\n",
    "i = 1\n",
    "while i<=n:\n",
    "    if not (i%2==0): #put not for even number , remove not for odd numbers\n",
    "        i+=1\n",
    "        continue\n",
    "\n",
    "    print(i)\n",
    "    i+=1\n",
    "\n",
    "\n"
   ]
  },
  {
   "cell_type": "code",
   "execution_count": 22,
   "metadata": {},
   "outputs": [
    {
     "name": "stdout",
     "output_type": "stream",
     "text": [
      "4 x 1 = 4\n",
      "4 x 2 = 8\n",
      "4 x 3 = 12\n",
      "4 x 4 = 16\n",
      "4 x 5 = 20\n",
      "4 x 6 = 24\n",
      "4 x 7 = 28\n",
      "4 x 8 = 32\n",
      "4 x 9 = 36\n",
      "4 x 10 = 40\n"
     ]
    }
   ],
   "source": [
    "# multiplicationm table of a number:\n",
    "\n",
    "n = int(input(\"give n value:\"))\n",
    "\n",
    "i = 1\n",
    "\n",
    "while i<=10:\n",
    "    print(f\"{n} x {i} = {n*i}\")\n",
    "    i+=1"
   ]
  },
  {
   "cell_type": "code",
   "execution_count": 35,
   "metadata": {},
   "outputs": [
    {
     "name": "stdout",
     "output_type": "stream",
     "text": [
      "40320\n"
     ]
    }
   ],
   "source": [
    "#calculate factorial of an number:\n",
    "\n",
    "n = int(input(\"give n value\"))\n",
    "\n",
    "factorial = 1\n",
    "\n",
    "while n>0:\n",
    "    factorial = factorial * n\n",
    "    n -= 1\n",
    "print(factorial)"
   ]
  }
 ],
 "metadata": {
  "kernelspec": {
   "display_name": "dlproj",
   "language": "python",
   "name": "python3"
  },
  "language_info": {
   "codemirror_mode": {
    "name": "ipython",
    "version": 3
   },
   "file_extension": ".py",
   "mimetype": "text/x-python",
   "name": "python",
   "nbconvert_exporter": "python",
   "pygments_lexer": "ipython3",
   "version": "3.12.1"
  }
 },
 "nbformat": 4,
 "nbformat_minor": 2
}
