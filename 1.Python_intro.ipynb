{
 "cells": [
  {
   "cell_type": "code",
   "execution_count": null,
   "metadata": {},
   "outputs": [],
   "source": []
  },
  {
   "cell_type": "markdown",
   "metadata": {},
   "source": [
    "What is python ?\n",
    "\n",
    "* it is popular\n",
    "* python is a high level\n",
    "* interpreted\n",
    "* dynamically typed\n",
    "* simple\n",
    "* readable\n",
    "* versatile"
   ]
  },
  {
   "cell_type": "markdown",
   "metadata": {},
   "source": [
    "Applications:\n",
    "\n",
    "- used for:\n",
    "* web devlopment(serverside) (django)\n",
    "* software development\n",
    "* machine learning \n",
    "* etc"
   ]
  },
  {
   "cell_type": "markdown",
   "metadata": {},
   "source": [
    "Why Python :\n",
    "* it has simple syntax\n",
    "* easy to learn\n",
    "* S.D ,W.D ,M.L\n",
    "* we can built projects\n"
   ]
  },
  {
   "cell_type": "markdown",
   "metadata": {},
   "source": [
    "Python installation:\n",
    "\n",
    "* install python \n",
    "* install vscode\n",
    "* type python in terminal it will show it was installed or not"
   ]
  },
  {
   "cell_type": "markdown",
   "metadata": {},
   "source": []
  }
 ],
 "metadata": {
  "language_info": {
   "name": "python"
  }
 },
 "nbformat": 4,
 "nbformat_minor": 2
}
