{
 "cells": [
  {
   "cell_type": "code",
   "execution_count": 1,
   "metadata": {},
   "outputs": [
    {
     "name": "stderr",
     "output_type": "stream",
     "text": [
      "'[p]' is not recognized as an internal or external command,\n",
      "operable program or batch file.\n"
     ]
    }
   ],
   "source": [
    "![pic1](images\\img51.png)"
   ]
  },
  {
   "cell_type": "markdown",
   "metadata": {},
   "source": [
    "![pic1](images\\img51.png)\n",
    "\n",
    "we have conditional statements :\n",
    "\n",
    "![pic1](images\\img52.png)\n",
    "\n",
    "* if condition :\n",
    "-  code to tbe executed if the conditoin is true\n",
    "\n",
    "* Syntax :\n",
    "- the condition is an expression that evalutes to either True or Flase . if the conditoin is true , the idented block of code under the if statement is executed ; otherwise , it is skipped."
   ]
  },
  {
   "cell_type": "code",
   "execution_count": 2,
   "metadata": {},
   "outputs": [
    {
     "name": "stdout",
     "output_type": "stream",
     "text": [
      "u can play with ur favorite toy\n",
      "have funn!\n"
     ]
    }
   ],
   "source": [
    "weather = \"cool\"\n",
    "\n",
    "if weather == \"cool\":\n",
    "    print(\"u can play with ur favorite toy\")\n",
    "\n",
    "print(\"have funn!\")"
   ]
  },
  {
   "cell_type": "code",
   "execution_count": 4,
   "metadata": {},
   "outputs": [
    {
     "name": "stdout",
     "output_type": "stream",
     "text": [
      "have funn!\n"
     ]
    }
   ],
   "source": [
    "weather = input()\n",
    "\n",
    "if weather == \"cool\":\n",
    "    print(\"u can play with ur favorite toy\")\n",
    "\n",
    "print(\"have funn!\")"
   ]
  },
  {
   "cell_type": "markdown",
   "metadata": {},
   "source": [
    "# if-else Statement:\n",
    "\n",
    "* Syntax :\n",
    "- if the condition is true , then code block under the else branch is skipped.\n",
    "- if the condition is false , the code block under the else branch is executed and the code block under the if branch is skipped.\n",
    "\n",
    "* if condition:\n",
    "- code to be executed if the condition is true:\n",
    "* else:\n",
    "- code to be executed if the condition is false.\n",
    "\n",
    "![p](images\\img53.png)"
   ]
  },
  {
   "cell_type": "markdown",
   "metadata": {},
   "source": [
    "# if-elif-else:\n",
    "\n",
    "* Syntax:\n",
    "- if condition1:\n",
    "* code to be executed if condition1 is true\n",
    "- elif conditoin2:\n",
    "* code to be ececuted if condition2 is true\n",
    "- elif condition3:\n",
    "* code to be excecuted f condition3 is true\n",
    "- else:\n",
    "* code to be executed if none of the conditoins are true.\n",
    "\n",
    "![p](images\\img54.png)"
   ]
  },
  {
   "cell_type": "markdown",
   "metadata": {},
   "source": [
    "# nested if statements:\n",
    "\n",
    "![p](images\\img55.png)"
   ]
  },
  {
   "cell_type": "code",
   "execution_count": 1,
   "metadata": {},
   "outputs": [
    {
     "name": "stdout",
     "output_type": "stream",
     "text": [
      "additiopm of 2 numbers is 30\n"
     ]
    }
   ],
   "source": [
    "#ex : basic calculator program (project)\n",
    "\n",
    "\n",
    "num1 = int(input(\"give 1st number\"))\n",
    "num2 = int(input(\"give 2nd number\"))\n",
    "\n",
    "operator = input(\"give operator\")\n",
    "\n",
    "if operator == \"+\":\n",
    "    print(f\"additiopm of 2 numbers is {num1+num2}\")\n",
    "elif operator == \"-\":\n",
    "    print(f\"substarction of 2 numbers is {num1-num2}\")\n",
    "elif operator == \"*\":\n",
    "    print(f\"multiplication of 2 numbers is {num1*num2}\")\n",
    "else:\n",
    "    print(f\"divisiomn of 2 numbers is {num1/num2}\")"
   ]
  }
 ],
 "metadata": {
  "kernelspec": {
   "display_name": "dlproj",
   "language": "python",
   "name": "python3"
  },
  "language_info": {
   "codemirror_mode": {
    "name": "ipython",
    "version": 3
   },
   "file_extension": ".py",
   "mimetype": "text/x-python",
   "name": "python",
   "nbconvert_exporter": "python",
   "pygments_lexer": "ipython3",
   "version": "3.12.1"
  }
 },
 "nbformat": 4,
 "nbformat_minor": 2
}
