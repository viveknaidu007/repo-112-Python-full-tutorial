{
 "cells": [
  {
   "cell_type": "code",
   "execution_count": null,
   "metadata": {},
   "outputs": [],
   "source": [
    "#here we leearning about:\n",
    "1. flowcharts\n",
    "2. algorithms\n",
    "3. Psuedocode\n",
    "4. time and space complexity"
   ]
  },
  {
   "cell_type": "markdown",
   "metadata": {},
   "source": [
    "# 1.fLowcharts :\n",
    "\n",
    "* it is an diagrammatic representation of sequence of logical steps of a program\n",
    "\n",
    "* w ewill use below diagram for problrm solving and steps while doing an projects and process"
   ]
  },
  {
   "cell_type": "markdown",
   "metadata": {},
   "source": [
    "![flowchart](images\\img3.png)"
   ]
  },
  {
   "cell_type": "markdown",
   "metadata": {},
   "source": [
    "example usage:\n",
    "\n",
    "![pic](images\\img4.png)"
   ]
  },
  {
   "cell_type": "markdown",
   "metadata": {},
   "source": [
    "# 2. Algorithms:\n",
    "* it is an step by step procedure which defines a set if instructions to be executed in a certain order to get the desired output\n",
    "\n"
   ]
  },
  {
   "cell_type": "markdown",
   "metadata": {},
   "source": [
    "- if any problem cam we can approach like htis :\n",
    "\n",
    "+ Sum of 2 digits:\n",
    "* step1: START\n",
    "* step2 : declare three inteegres a,b,c\n",
    "* step 3 : define values of a &b\n",
    "* step 4: sum calculation of a & b\n",
    "* step 5: store output of step 4 to c\n",
    "* step 6 : print C\n",
    "* Strp7 : STOP"
   ]
  },
  {
   "cell_type": "markdown",
   "metadata": {},
   "source": [
    "# 3.Pseudocode:\n",
    "\n",
    "* writing the algorithm without syntax \n",
    "\n",
    "* A way of expressing an algorithm wihout conforming to specific suntax rules\n",
    "* An informal high-level representation of the actual code\n",
    "\n",
    "exampple:\n",
    "set i to 0\n",
    "for each i from 0 to 9\n",
    "  if i is odd\n",
    "       print i\n",
    "end for loop"
   ]
  },
  {
   "cell_type": "markdown",
   "metadata": {},
   "source": [
    "# 4.Time and Space Complexity\n",
    "\n",
    "* Time complexity : algorithm quantifie the amount of time taken by an algorithm to run as a function of the length of input\n",
    "\n",
    "* Space compelcity : Problm solving using an computer requires memory to hold temporary datr or final result while to hold temporary data or final result . while the program is in execution . the amount of memory required by the algorithm tosolve given problem\n",
    "\n",
    "* about time complexity : whenever we writing an code , we have to think the code is getting executing fast or not \n",
    "\n",
    "* we can simple Space compelxity explain in this way : we r solving an problem , we r finding an approach , we have to compare does we are completing this problem in less time or not ?\n",
    "\n",
    "* We have to think about space complexity : the code can complete in 3 lines , so why we we wrote in 10 lines."
   ]
  },
  {
   "cell_type": "markdown",
   "metadata": {},
   "source": [
    "![pic](images\\img5.png)"
   ]
  }
 ],
 "metadata": {
  "language_info": {
   "name": "python"
  }
 },
 "nbformat": 4,
 "nbformat_minor": 2
}
