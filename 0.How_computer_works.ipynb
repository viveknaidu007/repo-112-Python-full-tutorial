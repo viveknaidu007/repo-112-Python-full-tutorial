{
 "cells": [
  {
   "cell_type": "code",
   "execution_count": null,
   "metadata": {},
   "outputs": [],
   "source": [
    "#here what we can learn\n",
    "\n",
    "1. Block Diagram of computer\n",
    "2. Memory Hierarchy\n",
    "3. Principle of Abstraction\n",
    "4. Langugae Hierarchy\n",
    "5. High level langauge (compiler and interpreter)"
   ]
  },
  {
   "cell_type": "code",
   "execution_count": null,
   "metadata": {},
   "outputs": [],
   "source": [
    "1. block Diagram of computer:\n",
    "'''\n",
    "Alu : all logical operation it will handle : And OR XOR XNOR.\n",
    "input and output :\n",
    "Memory : RAM and ROM\n",
    "\n",
    "'''"
   ]
  },
  {
   "cell_type": "markdown",
   "metadata": {},
   "source": [
    "![blockdiagramofcompyter](images\\img1.png)"
   ]
  },
  {
   "cell_type": "markdown",
   "metadata": {},
   "source": [
    "![basicparts](images\\img2.png)"
   ]
  }
 ],
 "metadata": {
  "language_info": {
   "name": "python"
  }
 },
 "nbformat": 4,
 "nbformat_minor": 2
}
