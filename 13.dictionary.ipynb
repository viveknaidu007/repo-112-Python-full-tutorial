{
 "cells": [
  {
   "cell_type": "code",
   "execution_count": 1,
   "metadata": {},
   "outputs": [],
   "source": [
    "#dictionary:\n"
   ]
  },
  {
   "cell_type": "markdown",
   "metadata": {},
   "source": [
    "![p](images\\img127.png)"
   ]
  },
  {
   "cell_type": "markdown",
   "metadata": {},
   "source": [
    "![p](images\\img128.png)"
   ]
  },
  {
   "cell_type": "markdown",
   "metadata": {},
   "source": [
    "![p](images\\img129.png)"
   ]
  },
  {
   "cell_type": "markdown",
   "metadata": {},
   "source": [
    "![p](images\\img130.png)"
   ]
  },
  {
   "cell_type": "markdown",
   "metadata": {},
   "source": [
    "![p](images\\img131.png)"
   ]
  },
  {
   "cell_type": "markdown",
   "metadata": {},
   "source": [
    "![p](images\\img132.png)"
   ]
  },
  {
   "cell_type": "markdown",
   "metadata": {},
   "source": [
    "![p](images\\img133.png)"
   ]
  },
  {
   "cell_type": "code",
   "execution_count": 3,
   "metadata": {},
   "outputs": [
    {
     "name": "stdout",
     "output_type": "stream",
     "text": [
      "{'roll': 'c', 2: 'B'}\n",
      "None\n"
     ]
    }
   ],
   "source": [
    "d = {\"roll\": \"A\", 2:\"B\"}\n",
    "\n",
    "d[\"roll\"] = \"c\"\n",
    "\n",
    "print(d)\n",
    "\n",
    "print(d.get(1))"
   ]
  },
  {
   "cell_type": "code",
   "execution_count": 4,
   "metadata": {},
   "outputs": [
    {
     "name": "stdout",
     "output_type": "stream",
     "text": [
      "A\n"
     ]
    }
   ],
   "source": [
    "d = {1 : \"A\", 2:\"B\"}\n",
    "\n",
    "print(d.get(1))\n",
    "\n",
    "\n"
   ]
  },
  {
   "cell_type": "code",
   "execution_count": 5,
   "metadata": {},
   "outputs": [
    {
     "name": "stdout",
     "output_type": "stream",
     "text": [
      "B\n",
      "{1: 'A'}\n"
     ]
    }
   ],
   "source": [
    "d = {1 : \"A\", 2:\"B\"}\n",
    "\n",
    "print(d.pop(2))\n",
    "print(d)"
   ]
  },
  {
   "cell_type": "markdown",
   "metadata": {},
   "source": [
    "![p](images\\img134.png)"
   ]
  },
  {
   "cell_type": "code",
   "execution_count": 3,
   "metadata": {},
   "outputs": [
    {
     "name": "stdout",
     "output_type": "stream",
     "text": [
      "1\n",
      "2\n",
      "6\n",
      "8\n",
      "1 6\n",
      "2 8\n"
     ]
    }
   ],
   "source": [
    "#looping:\n",
    "\n",
    "d = {1:\"6\",2:\"8\"}\n",
    "\n",
    "for i in d:\n",
    "    print(i)\n",
    "\n",
    "for i in d.values():\n",
    "    print(i)\n",
    "\n",
    "for i,j in d.items():\n",
    "    print(i,j)"
   ]
  },
  {
   "cell_type": "markdown",
   "metadata": {},
   "source": [
    "![p](images\\img135.png)"
   ]
  },
  {
   "cell_type": "code",
   "execution_count": 4,
   "metadata": {},
   "outputs": [
    {
     "name": "stdout",
     "output_type": "stream",
     "text": [
      "150\n"
     ]
    }
   ],
   "source": [
    "#find the sum of all elements in a given list of nummbers:\n",
    "\n",
    "#sample input : [10,20,30,40,50]\n",
    "#sample output : sum of elements = 150\n",
    "\n",
    "l = [10,20,30,40,50]\n",
    "\n",
    "sum = 0\n",
    "for i in l:\n",
    "    sum = sum + i\n",
    "\n",
    "print(sum)\n",
    "\n"
   ]
  },
  {
   "cell_type": "code",
   "execution_count": 5,
   "metadata": {},
   "outputs": [
    {
     "name": "stdout",
     "output_type": "stream",
     "text": [
      "150\n"
     ]
    }
   ],
   "source": [
    "#another process for above.\n",
    "\n",
    "l = [10,20,30,40,50]\n",
    "\n",
    "sum = 0\n",
    "\n",
    "length = len(l)\n",
    "for i in range(0,length):\n",
    "    sum = sum + l[i]\n",
    "    \n",
    "\n",
    "print(sum)\n",
    "\n"
   ]
  },
  {
   "cell_type": "code",
   "execution_count": 7,
   "metadata": {},
   "outputs": [
    {
     "name": "stdout",
     "output_type": "stream",
     "text": [
      "150\n"
     ]
    }
   ],
   "source": [
    "#another process for above :\n",
    "\n",
    "l = [10,20,30,40,50]\n",
    "\n",
    "sum = 0\n",
    "\n",
    "i = 0\n",
    "length = len(l)\n",
    "while i<length:\n",
    "    sum=sum+l[i]\n",
    "    i +=1\n",
    "\n",
    "print(sum)\n"
   ]
  },
  {
   "cell_type": "code",
   "execution_count": 8,
   "metadata": {},
   "outputs": [
    {
     "name": "stdout",
     "output_type": "stream",
     "text": [
      "25 2\n"
     ]
    }
   ],
   "source": [
    "#find maximum and minimum values in a list of numbers.\n",
    "#1st approach : learinng this type of appraoch is good for intervies this approach \n",
    "\n",
    "l = [15,2,6,25,10]\n",
    "max = l[0]\n",
    "min = l[0]\n",
    "\n",
    "for i in l:\n",
    "    if i>max:\n",
    "        max=i\n",
    "    if i<min:\n",
    "        min=i\n",
    "\n",
    "print(max)\n",
    "print(min)"
   ]
  },
  {
   "cell_type": "code",
   "execution_count": 11,
   "metadata": {},
   "outputs": [
    {
     "name": "stdout",
     "output_type": "stream",
     "text": [
      "25 2\n"
     ]
    }
   ],
   "source": [
    "#second apprach:\n",
    "\n",
    "l = [15,2,6,25,10]\n",
    "\n",
    "max = l[0]\n",
    "min = l[0]\n",
    "\n",
    "l.sort()\n",
    "\n",
    "print(l[-1] , l[0])"
   ]
  },
  {
   "cell_type": "code",
   "execution_count": 13,
   "metadata": {},
   "outputs": [
    {
     "name": "stdout",
     "output_type": "stream",
     "text": [
      "[10, 20, 30, 40, 50]\n"
     ]
    }
   ],
   "source": [
    "#problem : remove duplicate elements from a list to create a new list with unique element:\n",
    "#1st approach:\n",
    "\n",
    "inp = input().split(',')\n",
    "\n",
    "l = [int(item) for item in inp]\n",
    "\n",
    "#remove duplicate and craete new list\n",
    "\n",
    "newlist = []\n",
    "\n",
    "#iterate over all the elements:\n",
    "\n",
    "for i in l:\n",
    "    if i in newlist:\n",
    "        continue\n",
    "    else:\n",
    "        newlist.append(i)\n",
    "\n",
    "print(newlist)"
   ]
  },
  {
   "cell_type": "code",
   "execution_count": 2,
   "metadata": {},
   "outputs": [
    {
     "name": "stdout",
     "output_type": "stream",
     "text": [
      "2\n"
     ]
    }
   ],
   "source": [
    "'''#problem : count the number if occurances of a specific element in a lsit\n",
    ", give python code'''\n",
    "\n",
    "\n",
    "# Get the input list as a comma-separated string and convert it to a list of integers\n",
    "input_list = [int(item) for item in input().split(\",\")]\n",
    "\n",
    "# Get the number to count occurrences of\n",
    "n = int(input())\n",
    "\n",
    "# Initialize count\n",
    "count = 0\n",
    "\n",
    "# Count occurrences of n in input_list\n",
    "for i in input_list:\n",
    "    if i == n:\n",
    "        count += 1\n",
    "\n",
    "# Print the count\n",
    "print(count)\n",
    "\n"
   ]
  },
  {
   "cell_type": "code",
   "execution_count": 3,
   "metadata": {},
   "outputs": [
    {
     "name": "stdout",
     "output_type": "stream",
     "text": [
      "3\n"
     ]
    }
   ],
   "source": [
    "#similar approach:\n",
    "\n",
    "l = [ int(item) for item in input().split(\",\")]\n",
    "\n",
    "n = int(input())\n",
    "\n",
    "c = l.count(n)\n",
    "\n",
    "print(c)"
   ]
  },
  {
   "cell_type": "code",
   "execution_count": 24,
   "metadata": {},
   "outputs": [
    {
     "name": "stdout",
     "output_type": "stream",
     "text": [
      "{1, 2, 3, 4, 5, 6, 7, 8} {4, 5, 6}\n"
     ]
    }
   ],
   "source": [
    "#given two sets . find their intersection (common elements) and union (all unique elements combined)\n",
    "\n",
    "set1 = {1,2,3,4,5,6}\n",
    "set2 = {4,5,6,7,8}\n",
    "\n",
    "uset = set1.union(set2)\n",
    "iset = set1.intersection(set2)\n",
    "\n",
    "print(uset,iset)"
   ]
  },
  {
   "cell_type": "code",
   "execution_count": 1,
   "metadata": {},
   "outputs": [
    {
     "name": "stdout",
     "output_type": "stream",
     "text": [
      "{'name': 'vivek', 'age': 25, 'city': 'vizag'}\n"
     ]
    }
   ],
   "source": [
    "#create dictionaries , access values, update values, and iterate\n",
    "\n",
    "my_dict = {\n",
    "    'name' : 'john',\n",
    "    'age' : 30,\n",
    "    'city' : 'new york'\n",
    "}\n",
    "\n",
    "my_dict = {}\n",
    "a = input(\"give name\")\n",
    "age = int(input(\"give age\"))\n",
    "c = input(\"city : \")\n",
    "\n",
    "my_dict[\"name\"] = a\n",
    "my_dict[\"age\"] = age\n",
    "my_dict[\"city\"] = c\n",
    "\n",
    "print(my_dict)\n",
    "\n"
   ]
  }
 ],
 "metadata": {
  "kernelspec": {
   "display_name": "dlproj",
   "language": "python",
   "name": "python3"
  },
  "language_info": {
   "codemirror_mode": {
    "name": "ipython",
    "version": 3
   },
   "file_extension": ".py",
   "mimetype": "text/x-python",
   "name": "python",
   "nbconvert_exporter": "python",
   "pygments_lexer": "ipython3",
   "version": "3.12.1"
  }
 },
 "nbformat": 4,
 "nbformat_minor": 2
}
