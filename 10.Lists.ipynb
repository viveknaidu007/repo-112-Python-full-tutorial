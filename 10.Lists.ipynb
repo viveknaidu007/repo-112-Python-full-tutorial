{
 "cells": [
  {
   "cell_type": "code",
   "execution_count": null,
   "metadata": {},
   "outputs": [],
   "source": [
    "#here now learning for : Lists"
   ]
  },
  {
   "cell_type": "markdown",
   "metadata": {},
   "source": [
    "![p](images\\img107.png)"
   ]
  },
  {
   "cell_type": "code",
   "execution_count": 1,
   "metadata": {},
   "outputs": [],
   "source": [
    "#creating a list :\n",
    "\n",
    "empty_list = []\n",
    "\n",
    "numbers = [1,2,3,4,5]\n",
    "\n",
    "fruits = [\"apple\",\"banana\",\"cherry\"]\n",
    "\n",
    "mixed_lists = [1,\"hello\",3.14,True]"
   ]
  },
  {
   "cell_type": "code",
   "execution_count": 2,
   "metadata": {},
   "outputs": [
    {
     "name": "stdout",
     "output_type": "stream",
     "text": [
      "apple\n",
      "banana\n"
     ]
    }
   ],
   "source": [
    "#accesing elemeents :\n",
    "\n",
    "fruits = [\"apple\",\"banana\",\"cherry\"]\n",
    "print(fruits[0])\n",
    "print(fruits[1])\n",
    "\n",
    "#python also supports negative indeing where  -1 refers to the last element "
   ]
  },
  {
   "cell_type": "code",
   "execution_count": 5,
   "metadata": {},
   "outputs": [
    {
     "name": "stdout",
     "output_type": "stream",
     "text": [
      "2 [-1]\n"
     ]
    }
   ],
   "source": [
    "l = [2,3,4,\"swaroop\"]\n",
    "\n",
    "print(l[0],[-1])"
   ]
  },
  {
   "cell_type": "code",
   "execution_count": 6,
   "metadata": {},
   "outputs": [
    {
     "name": "stdout",
     "output_type": "stream",
     "text": [
      "[2, 3, 4]\n"
     ]
    }
   ],
   "source": [
    "#slicing lists :\n",
    "\n",
    "numbers = [1,2,3,4,5]\n",
    "print(numbers[1:4])"
   ]
  },
  {
   "cell_type": "code",
   "execution_count": 8,
   "metadata": {},
   "outputs": [
    {
     "name": "stdout",
     "output_type": "stream",
     "text": [
      "['orange', 'banana', 'cherry']\n",
      "[1, 10, 3, 4]\n"
     ]
    }
   ],
   "source": [
    "#modifiying elements:\n",
    "\n",
    "fruits = [\"apple\",\"banana\",\"cherry\"]\n",
    "fruits[0]=\"orange\"\n",
    "print(fruits)\n",
    "\n",
    "l = [1,2,3,4]\n",
    "l[1]=10\n",
    "print(l)"
   ]
  },
  {
   "cell_type": "markdown",
   "metadata": {},
   "source": [
    "![p](images\\img108.png)"
   ]
  },
  {
   "cell_type": "markdown",
   "metadata": {},
   "source": [
    "![p](images\\img109.png)"
   ]
  },
  {
   "cell_type": "code",
   "execution_count": 19,
   "metadata": {},
   "outputs": [
    {
     "name": "stdout",
     "output_type": "stream",
     "text": [
      "[1, 2, 3, 4, 5]\n",
      "[5, 1, 2, 3, 4, 123]\n",
      "[2, 3, 4]\n",
      "[1, 2, 3]\n"
     ]
    },
    {
     "data": {
      "text/plain": [
       "2"
      ]
     },
     "execution_count": 19,
     "metadata": {},
     "output_type": "execute_result"
    }
   ],
   "source": [
    "l = [1,2,3,4]\n",
    "l.append(5)   #append\n",
    "print(l)\n",
    "\n",
    "l = [1,2,3,4]\n",
    "l.append(123)  \n",
    "l.insert(0,5)  #insert\n",
    "print(l)\n",
    "\n",
    "\n",
    "\n",
    "l = [1,2,3,4]\n",
    "l.remove(1)  #we have to give specific value\n",
    "print(l)\n",
    "\n",
    "\n",
    "l = [1,2,3,4]\n",
    "l.pop()\n",
    "print(l)   #it will remove last element\n",
    "\n",
    "\n",
    "l = [1,2,3,4]\n",
    "l.index(3)    #it will show index of the value we gave\n",
    "\n"
   ]
  },
  {
   "cell_type": "markdown",
   "metadata": {},
   "source": [
    "![p](images\\img110.png)"
   ]
  },
  {
   "cell_type": "markdown",
   "metadata": {},
   "source": [
    "![p](images\\img111.png)"
   ]
  },
  {
   "cell_type": "markdown",
   "metadata": {},
   "source": [
    "![p](images\\img112.png)"
   ]
  },
  {
   "cell_type": "code",
   "execution_count": 20,
   "metadata": {},
   "outputs": [
    {
     "name": "stdout",
     "output_type": "stream",
     "text": [
      "[1, 2, 5, 66, 80]\n"
     ]
    }
   ],
   "source": [
    "inp = input().split()\n",
    "\n",
    "l = [int(item) for item in inp]\n",
    "\n",
    "print(l)"
   ]
  },
  {
   "cell_type": "code",
   "execution_count": null,
   "metadata": {},
   "outputs": [],
   "source": []
  }
 ],
 "metadata": {
  "kernelspec": {
   "display_name": "dlproj",
   "language": "python",
   "name": "python3"
  },
  "language_info": {
   "codemirror_mode": {
    "name": "ipython",
    "version": 3
   },
   "file_extension": ".py",
   "mimetype": "text/x-python",
   "name": "python",
   "nbconvert_exporter": "python",
   "pygments_lexer": "ipython3",
   "version": "3.12.1"
  }
 },
 "nbformat": 4,
 "nbformat_minor": 2
}
