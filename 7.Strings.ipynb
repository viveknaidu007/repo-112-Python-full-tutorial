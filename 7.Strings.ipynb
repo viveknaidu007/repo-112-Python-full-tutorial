{
 "cells": [
  {
   "cell_type": "code",
   "execution_count": null,
   "metadata": {},
   "outputs": [],
   "source": [
    "'''here we r learning about strings + problems\n",
    "strings r very imp'''"
   ]
  },
  {
   "cell_type": "markdown",
   "metadata": {},
   "source": [
    "![p](images\\img56.png)\n",
    "\n",
    "![p](images\\img57.png)\n",
    "\n",
    "![p](images\\img58.png)"
   ]
  },
  {
   "cell_type": "markdown",
   "metadata": {},
   "source": [
    "![p](images\\img59.png)"
   ]
  },
  {
   "cell_type": "code",
   "execution_count": 2,
   "metadata": {},
   "outputs": [
    {
     "name": "stdout",
     "output_type": "stream",
     "text": [
      "<class 'str'>\n",
      "p\n",
      "y\n",
      "t\n"
     ]
    }
   ],
   "source": [
    "str = \"python\"\n",
    "print(type(str))\n",
    "print(str[0])\n",
    "print(str[1])\n",
    "print(str[2])"
   ]
  },
  {
   "cell_type": "code",
   "execution_count": 3,
   "metadata": {},
   "outputs": [
    {
     "name": "stderr",
     "output_type": "stream",
     "text": [
      "'[p]' is not recognized as an internal or external command,\n",
      "operable program or batch file.\n"
     ]
    }
   ],
   "source": [
    "![p](images\\img60.png)"
   ]
  },
  {
   "cell_type": "markdown",
   "metadata": {},
   "source": [
    "![p](images\\img60.png)"
   ]
  },
  {
   "cell_type": "markdown",
   "metadata": {},
   "source": [
    "![p](images\\img61.png)"
   ]
  },
  {
   "cell_type": "markdown",
   "metadata": {},
   "source": [
    "![p](images\\img63.png)"
   ]
  },
  {
   "cell_type": "markdown",
   "metadata": {},
   "source": [
    "![p](images\\img62.png)"
   ]
  },
  {
   "cell_type": "markdown",
   "metadata": {},
   "source": [
    "![p](images\\img64.png)"
   ]
  },
  {
   "cell_type": "markdown",
   "metadata": {},
   "source": [
    "![p](images\\img65.png)"
   ]
  },
  {
   "cell_type": "markdown",
   "metadata": {},
   "source": [
    "![p](images\\img66.png)"
   ]
  },
  {
   "cell_type": "markdown",
   "metadata": {},
   "source": [
    "![p](images\\img67.png)"
   ]
  },
  {
   "cell_type": "markdown",
   "metadata": {},
   "source": [
    "![p](images\\img68.png)"
   ]
  },
  {
   "cell_type": "markdown",
   "metadata": {},
   "source": [
    "![p](images\\img69.png)"
   ]
  },
  {
   "cell_type": "markdown",
   "metadata": {},
   "source": [
    "![p](images\\img70.png)\n",
    "\n",
    "![p](images\\img71.png)\n",
    "\n",
    "![p](images\\img72.png)\n",
    "\n",
    "![p](images\\img73.png)\n",
    "\n",
    "![p](images\\img74.png)"
   ]
  },
  {
   "cell_type": "markdown",
   "metadata": {},
   "source": [
    "![p](images\\img75.png)"
   ]
  },
  {
   "cell_type": "markdown",
   "metadata": {},
   "source": [
    "![p](images\\img76.png)"
   ]
  },
  {
   "cell_type": "code",
   "execution_count": 8,
   "metadata": {},
   "outputs": [
    {
     "name": "stdout",
     "output_type": "stream",
     "text": [
      "helloworld \n",
      "\n",
      "hello\n"
     ]
    }
   ],
   "source": [
    "s = \"hello world\"\n",
    "\n",
    "print(\"hello\" + \"world \\n\",)\n",
    "\n",
    "print(\"hello\")"
   ]
  },
  {
   "cell_type": "code",
   "execution_count": null,
   "metadata": {},
   "outputs": [],
   "source": [
    "#problems on strings + numbrers + decison making:\n"
   ]
  },
  {
   "cell_type": "markdown",
   "metadata": {},
   "source": [
    "# problem:\n",
    "\n",
    "![p](images\\img77.png)"
   ]
  },
  {
   "cell_type": "code",
   "execution_count": 10,
   "metadata": {},
   "outputs": [
    {
     "name": "stdout",
     "output_type": "stream",
     "text": [
      "number os voveeles 2\n"
     ]
    }
   ],
   "source": [
    "s = input()\n",
    "s = s.lower()\n",
    "a = s.count('a')\n",
    "e = s.count('e')\n",
    "i = s.count('i')\n",
    "o = s.count('o')\n",
    "u = s.count('u')\n",
    "\n",
    "print(f\"number os voweles {a+e+i+o+u}\")"
   ]
  },
  {
   "cell_type": "markdown",
   "metadata": {},
   "source": [
    "![p](images\\img78.png)"
   ]
  },
  {
   "cell_type": "code",
   "execution_count": 2,
   "metadata": {},
   "outputs": [
    {
     "name": "stdout",
     "output_type": "stream",
     "text": [
      "total marks: 60 in average marks: 20.0 \n",
      " grade: p \n"
     ]
    }
   ],
   "source": [
    "#\n",
    "\n",
    "m = int(input(\"marks in math:\"))\n",
    "s = int(input(\"marks in science\"))\n",
    "e = int(input(\"marks in english:\"))\n",
    "\n",
    "total_marks = m+e+s\n",
    "average = total_marks/3\n",
    "\n",
    "percentage = (total_marks/300) * 100\n",
    "grade = \"\"\n",
    "if percentage > 90:\n",
    "    grade = \"A\"\n",
    "elif percentage > 90 and percentage<=90:\n",
    "    grade = \"B\"\n",
    "elif percentage > 70:\n",
    "    grade = \"C\"\n",
    "else:\n",
    "    grade = \"p\"\n",
    "\n",
    "print(f\"total marks: {total_marks} in average marks: {average} \\n grade: {grade} \")\n"
   ]
  },
  {
   "cell_type": "code",
   "execution_count": 5,
   "metadata": {},
   "outputs": [
    {
     "name": "stdout",
     "output_type": "stream",
     "text": [
      "it is not a palindrome\n"
     ]
    }
   ],
   "source": [
    "#example: palindorme checker\n",
    "#input : \"radar\"\n",
    "#output : it is a palindrome\n",
    "\n",
    "s = input(\"give a string\")\n",
    "reverse = s[::-1]\n",
    "\n",
    "if reverse == s:\n",
    "    print(\"it is a palindrome\")\n",
    "else:\n",
    "    print(\"it is not a palindrome\")\n"
   ]
  },
  {
   "cell_type": "code",
   "execution_count": 9,
   "metadata": {},
   "outputs": [
    {
     "name": "stdout",
     "output_type": "stream",
     "text": [
      "105\n"
     ]
    }
   ],
   "source": [
    "# example : largest of three numbers:\n",
    "'''write a program takes 3 numbers as input and finds the largest amoung them using decision-making statements \n",
    "input : enter three numbers : 15,8,21\n",
    "output : the largest number is 21\n",
    "'''\n",
    "\n",
    "a = input()\n",
    "\n",
    "x,y,z = a.split(\",\")\n",
    "\n",
    "num1 = int(x)\n",
    "num2 = int(y)\n",
    "num3 = int(z)\n",
    "\n",
    "great = 0\n",
    "if num1>num2:\n",
    "    if num2>num3:\n",
    "        great = num2\n",
    "    else:\n",
    "        great = num3\n",
    "elif num2> num1:\n",
    "    if num2 > num3:\n",
    "        great = num2\n",
    "    else:\n",
    "        great = num3\n",
    "elif num3 > num1:\n",
    "    if num3 > num2:\n",
    "        great = num3\n",
    "    else:\n",
    "        great = num2\n",
    "\n",
    "print(great)"
   ]
  },
  {
   "cell_type": "code",
   "execution_count": 12,
   "metadata": {},
   "outputs": [
    {
     "name": "stdout",
     "output_type": "stream",
     "text": [
      "False\n"
     ]
    }
   ],
   "source": [
    "# example : leap year check: \n",
    "'''\n",
    "write a program that takes a year as input and checks if its is leap year or not.\n",
    "Hint : a leap year is divisible by 4, except for years that are divisble by 100 but not divisble by 400.\n",
    "input : enter a year : 2024\n",
    "output : it is aleap year \n",
    "'''\n",
    "\n",
    "year = int(input())\n",
    "\n",
    "leap = False\n",
    "\n",
    "if year % 100 == 0 and year%400 != 0:\n",
    "    leap = False\n",
    "elif year%4 ==0:\n",
    "    leap = True\n",
    "else:\n",
    "    leap = False\n",
    "\n",
    "print(leap)\n",
    "\n"
   ]
  },
  {
   "cell_type": "code",
   "execution_count": null,
   "metadata": {},
   "outputs": [],
   "source": [
    "# example : temperature converter \n",
    "\n"
   ]
  },
  {
   "cell_type": "code",
   "execution_count": null,
   "metadata": {},
   "outputs": [],
   "source": []
  }
 ],
 "metadata": {
  "kernelspec": {
   "display_name": "dlproj",
   "language": "python",
   "name": "python3"
  },
  "language_info": {
   "codemirror_mode": {
    "name": "ipython",
    "version": 3
   },
   "file_extension": ".py",
   "mimetype": "text/x-python",
   "name": "python",
   "nbconvert_exporter": "python",
   "pygments_lexer": "ipython3",
   "version": "3.12.1"
  }
 },
 "nbformat": 4,
 "nbformat_minor": 2
}
